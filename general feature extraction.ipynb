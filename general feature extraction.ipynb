{
 "cells": [
  {
   "cell_type": "code",
   "execution_count": 1,
   "id": "bb6b9109-419a-459b-84a8-af19920758a0",
   "metadata": {},
   "outputs": [],
   "source": [
    "import librosa\n",
    "import matplotlib.pyplot as plt\n",
    "import random\n",
    "import numpy as np\n",
    "import os\n",
    "import pandas as pd\n",
    "import scipy\n"
   ]
  },
  {
   "cell_type": "code",
   "execution_count": 101,
   "id": "f7cba5db-a410-4d4b-a60d-64433705174b",
   "metadata": {},
   "outputs": [],
   "source": [
    "# load data\n",
    "X = 'your own signal'\n",
    "Sr = sr\n",
    "\n",
    "mfccs = librosa.feature.mfcc(y = X, sr = Sr, n_mfcc = 4)"
   ]
  },
  {
   "cell_type": "markdown",
   "id": "445a098f-27da-49ca-aeec-94185d5d91fd",
   "metadata": {},
   "source": [
    "## Find variance MEL1 (first MFCC coefficient)"
   ]
  },
  {
   "cell_type": "code",
   "execution_count": 57,
   "id": "0c6330a1-8a5a-466d-b79c-36cf55779bd1",
   "metadata": {},
   "outputs": [],
   "source": [
    "var_threshold_intact = []\n",
    "var_threshold_error = []\n",
    "\n",
    "for i in data_intact:\n",
    "    mfccs = librosa.feature.mfcc(y = i, sr = Sr, n_mfcc = 4)\n",
    "    mfccs_var = mfccs.var(axis=1)\n",
    "    var_threshold_intact.append(mfccs_var[0])\n",
    "\n",
    "for j in error_mix:\n",
    "    mfccs = librosa.feature.mfcc(y = j, sr = Sr, n_mfcc = 4)\n",
    "    mfccs_var = mfccs.var(axis=1)\n",
    "    var_threshold_error.append(mfccs_var[0])\n",
    "    \n",
    "VTI = np.std(var_threshold_intact), VTE = np.std(var_threshold_error)"
   ]
  },
  {
   "cell_type": "code",
   "execution_count": 87,
   "id": "511d5acf-e4a0-4884-893c-2d5c657b7514",
   "metadata": {},
   "outputs": [],
   "source": [
    "mfccs_var = mfccs.var(axis=1)\n",
    "if mfccs_var[0] > 4500:\n",
    "    print('Abnormal')"
   ]
  },
  {
   "cell_type": "markdown",
   "id": "8d8c3476-5cbe-4549-acc9-e0926ff5e259",
   "metadata": {},
   "source": [
    "## Find zero variation"
   ]
  },
  {
   "cell_type": "code",
   "execution_count": 47,
   "id": "24e7e0ad-20bb-435e-ae5a-d69ff6b2f7be",
   "metadata": {},
   "outputs": [
    {
     "name": "stdout",
     "output_type": "stream",
     "text": [
      "ERROR\n"
     ]
    }
   ],
   "source": [
    "MEL1, MEL2, MEL3 = mfccs[0], mfccs[1], mfccs[2]\n",
    "n = len(MEL1)\n",
    "\n",
    "for i in range(n - 3):\n",
    "    if all(MEL1[j+1] - MEL1[j] == 0 for j in range(i, i+3)) and \\\n",
    "       all(MEL2[j+1] - MEL2[j] == 0 for j in range(i, i+3)) and \\\n",
    "       all(MEL3[j+1] - MEL3[j] == 0 for j in range(i, i+3)):\n",
    "        print('ERROR')\n",
    "        break\n",
    "else:\n",
    "    print('intact')\n",
    "               \n"
   ]
  },
  {
   "cell_type": "markdown",
   "id": "f2a294c5-7bd1-4c4f-ad8a-d13ac7255133",
   "metadata": {},
   "source": [
    "## Find long zero variation"
   ]
  },
  {
   "cell_type": "code",
   "execution_count": 83,
   "id": "9dad3da0-6857-4260-b25c-a41899a6a799",
   "metadata": {},
   "outputs": [
    {
     "name": "stdout",
     "output_type": "stream",
     "text": [
      "Grouped elements: []\n",
      "Number of groups: 0\n"
     ]
    }
   ],
   "source": [
    "def find_short_variation(mfccs):\n",
    "    \n",
    "    \n",
    "    M1 = mfccs[0]\n",
    "    M2 = mfccs[1]\n",
    "    M3 = mfccs[2]\n",
    "\n",
    "    threshold = 1\n",
    "    \n",
    "    diff_M1 = np.diff(M1)\n",
    "    diff_M2 = np.diff(M2)\n",
    "    diff_M3 = np.diff(M3)\n",
    "\n",
    "    OT1 = np.where(np.abs(diff_M1) < threshold)[0]\n",
    "    OT2 = np.where(np.abs(diff_M2) < threshold)[0]\n",
    "    OT3 = np.where(np.abs(diff_M3) < threshold)[0]\n",
    "\n",
    "    total_silent = OT1 & OT1 & OT1\n",
    "\n",
    "    \n",
    "    return(total_silent)\n",
    "\n",
    "def group_consecutive_elements(arr):\n",
    "    \n",
    "    groups = []\n",
    "    # Initialize the first group with the first element\n",
    "    current_group = [arr[0]]\n",
    "\n",
    "    # Iterate through the array starting from the second element\n",
    "    for i in range(1, len(arr)):\n",
    "        if arr[i] == arr[i-1] + 1:\n",
    "            current_group.append(arr[i])\n",
    "        else:\n",
    "            # Add the current group to groups if it has at least 3 elements\n",
    "            if len(current_group) >= 20:\n",
    "                groups.append(current_group)\n",
    "            current_group = [arr[i]]\n",
    "    \n",
    "    # Add the last group to groups if it has at least 3 elements\n",
    "    if len(current_group) >= 20:\n",
    "        groups.append(current_group)\n",
    "    \n",
    "    return groups\n",
    "\n",
    "def number_of_groups(arr):\n",
    "    grouped_elements = group_consecutive_elements(arr)\n",
    "    return len(grouped_elements)\n",
    "\n",
    "\n",
    "\n",
    "mfcc_jump = find_short_variation(mfccs)\n",
    "\n",
    "grouped_elements = group_consecutive_elements(mfcc_jump)\n",
    "num_groups = number_of_groups(mfcc_jump)\n",
    "print(f\"Grouped elements: {grouped_elements}\")\n",
    "print(f\"Number of groups: {num_groups}\")"
   ]
  },
  {
   "cell_type": "code",
   "execution_count": 84,
   "id": "163709cb-b4bb-4614-99dc-4d7c3f15b17b",
   "metadata": {},
   "outputs": [],
   "source": [
    "if num_groups > 0:\n",
    "    print('Abnormal')"
   ]
  },
  {
   "cell_type": "markdown",
   "id": "c6782f61-f4d3-4bb1-8641-938689ce0e6e",
   "metadata": {},
   "source": [
    "## Find Flatness"
   ]
  },
  {
   "cell_type": "code",
   "execution_count": 93,
   "id": "8a09a0fe-115c-4def-845a-545acf5d32eb",
   "metadata": {},
   "outputs": [],
   "source": [
    "flat_threshold_intact = []\n",
    "flat_threshold_error = []\n",
    "\n",
    "for i in data_intact:\n",
    "    spectral_flatness = librosa.feature.spectral_flatness(y=i)[0]\n",
    "    flat_threshold_intact.append(np.mean(spectral_flatness))\n",
    "                                 \n",
    "for j in error_mix:\n",
    "    spectral_flatness = librosa.feature.spectral_flatness(y=j)[0]\n",
    "    flat_threshold_error.append(np.mean(spectral_flatness))\n",
    "\n",
    "\n",
    "    "
   ]
  },
  {
   "cell_type": "code",
   "execution_count": 99,
   "id": "26928f85-ee88-403a-b757-49baa4f56c0b",
   "metadata": {},
   "outputs": [
    {
     "data": {
      "text/plain": [
       "(0.01937601, 0.050345194)"
      ]
     },
     "execution_count": 99,
     "metadata": {},
     "output_type": "execute_result"
    }
   ],
   "source": [
    "np.std(flat_threshold_intact), np.std(flat_threshold_error)"
   ]
  },
  {
   "cell_type": "code",
   "execution_count": 102,
   "id": "41d0d245-7942-47a0-84ae-ca12ab54aa8c",
   "metadata": {},
   "outputs": [
    {
     "name": "stdout",
     "output_type": "stream",
     "text": [
      "Abnormal\n"
     ]
    }
   ],
   "source": [
    "spectral_flatness = librosa.feature.spectral_flatness(y=X)[0]\n",
    "\n",
    "if (np.mean(spectral_flatness) > 0.02):\n",
    "    print('Abnormal')\n",
    "    "
   ]
  },
  {
   "cell_type": "code",
   "execution_count": null,
   "id": "88392c79-7298-4420-b5ed-830d3526163f",
   "metadata": {},
   "outputs": [],
   "source": []
  }
 ],
 "metadata": {
  "kernelspec": {
   "display_name": "Python 3 (ipykernel)",
   "language": "python",
   "name": "python3"
  },
  "language_info": {
   "codemirror_mode": {
    "name": "ipython",
    "version": 3
   },
   "file_extension": ".py",
   "mimetype": "text/x-python",
   "name": "python",
   "nbconvert_exporter": "python",
   "pygments_lexer": "ipython3",
   "version": "3.11.7"
  }
 },
 "nbformat": 4,
 "nbformat_minor": 5
}
